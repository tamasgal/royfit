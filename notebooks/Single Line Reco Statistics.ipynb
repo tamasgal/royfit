{
 "metadata": {
  "name": "",
  "signature": "sha256:8b1f31630e160d7c5a4e49f291dbe42cff8b1f9e9ddb410ac35ba87cc1678976"
 },
 "nbformat": 3,
 "nbformat_minor": 0,
 "worksheets": [
  {
   "cells": [
    {
     "cell_type": "code",
     "collapsed": false,
     "input": [
      "%matplotlib inline\n",
      "import matplotlib.pyplot as plt\n",
      "import pickle\n",
      "import numpy as np\n",
      "from km3pipe.pumps import EvtPump"
     ],
     "language": "python",
     "metadata": {},
     "outputs": [
      {
       "ename": "ImportError",
       "evalue": "No module named km3pipe.pumps",
       "output_type": "pyerr",
       "traceback": [
        "\u001b[0;31m---------------------------------------------------------------------------\u001b[0m\n\u001b[0;31mImportError\u001b[0m                               Traceback (most recent call last)",
        "\u001b[0;32m<ipython-input-1-d8b473620a8c>\u001b[0m in \u001b[0;36m<module>\u001b[0;34m()\u001b[0m\n\u001b[1;32m      3\u001b[0m \u001b[0;32mimport\u001b[0m \u001b[0mpickle\u001b[0m\u001b[0;34m\u001b[0m\u001b[0m\n\u001b[1;32m      4\u001b[0m \u001b[0;32mimport\u001b[0m \u001b[0mnumpy\u001b[0m \u001b[0;32mas\u001b[0m \u001b[0mnp\u001b[0m\u001b[0;34m\u001b[0m\u001b[0m\n\u001b[0;32m----> 5\u001b[0;31m \u001b[0;32mfrom\u001b[0m \u001b[0mkm3pipe\u001b[0m\u001b[0;34m.\u001b[0m\u001b[0mpumps\u001b[0m \u001b[0;32mimport\u001b[0m \u001b[0mEvtPump\u001b[0m\u001b[0;34m\u001b[0m\u001b[0m\n\u001b[0m",
        "\u001b[0;31mImportError\u001b[0m: No module named km3pipe.pumps"
       ]
      }
     ],
     "prompt_number": 1
    },
    {
     "cell_type": "code",
     "collapsed": false,
     "input": [
      "with open('all_zeniths.pickle', 'r') as file:\n",
      "    all_zeniths = pickle.load(file)"
     ],
     "language": "python",
     "metadata": {},
     "outputs": []
    },
    {
     "cell_type": "code",
     "collapsed": false,
     "input": [
      "plt.hist(all_zeniths)\n",
      "plt.xlabel('zenith [degree]')\n",
      "plt.ylabel('count')\n",
      "plt.title(\"{0} MUPAGE single line events - MC zenith distribution\".format(len(all_zeniths)), y=1.04)"
     ],
     "language": "python",
     "metadata": {},
     "outputs": []
    },
    {
     "cell_type": "code",
     "collapsed": false,
     "input": [
      "evt_pump = EvtPump(filename='/Users/tamasgal/Data/KM3NeT/mu_july14/km3net_jul13_90m_muatm50T99.km3_v5r1.evt')"
     ],
     "language": "python",
     "metadata": {},
     "outputs": []
    },
    {
     "cell_type": "code",
     "collapsed": false,
     "input": [
      "zeniths = []\n",
      "for blob in evt_pump:\n",
      "    track = blob['TrackIns'][0]\n",
      "    zeniths.append(track.dir.zenith * 180 / np.pi)"
     ],
     "language": "python",
     "metadata": {},
     "outputs": []
    },
    {
     "cell_type": "code",
     "collapsed": false,
     "input": [
      "plt.hist(zeniths)\n",
      "plt.xlabel('zenith [degree]')\n",
      "plt.ylabel('count')\n",
      "plt.title(\"{0} MUPAGE full detector events - MC zenith distribution\".format(len(zeniths)), y=1.04)"
     ],
     "language": "python",
     "metadata": {},
     "outputs": []
    },
    {
     "cell_type": "code",
     "collapsed": false,
     "input": [],
     "language": "python",
     "metadata": {},
     "outputs": []
    }
   ],
   "metadata": {}
  }
 ]
}